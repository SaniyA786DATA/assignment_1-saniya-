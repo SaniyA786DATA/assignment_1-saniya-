{
 "cells": [
  {
   "cell_type": "markdown",
   "id": "86b529d3",
   "metadata": {},
   "source": [
    "1. In the below elements which of them are values or an expression? eg:- values can be integer or string and expressions will be mathematical operators.\n",
    "* \n",
    "'hello'   VALUE\n",
    "-87.8     VALUE\n",
    "-         EXPRESSION\n",
    "/         EXPRESSION\n",
    "+\t      EXPRESSION\n",
    "6         VALUE\n"
   ]
  },
  {
   "cell_type": "markdown",
   "id": "0cc0822a",
   "metadata": {},
   "source": [
    " 2. What is the difference between string and variable?\n"
   ]
  },
  {
   "cell_type": "markdown",
   "id": "0dff8891",
   "metadata": {},
   "source": [
    "ANSWER:-String:\n",
    "string are  sequence of characters enclosed with in single quotes ('')double quotes (\"\")and triple qoutes (\"\"\")\n",
    "              string are  sequence of characters enclosed with in single quotes ('')double quotes (\"\")and triple qoutes (\"\"\")\n",
    "      variable:\n",
    "         variable is a storage .its work like storage eg. we work in python and we have much data so we want to store this data we need to store this type of data so we will storage in variable "
   ]
  },
  {
   "cell_type": "markdown",
   "id": "6a6eb1d6",
   "metadata": {},
   "source": [
    "3. Describe three different data types\n"
   ]
  },
  {
   "cell_type": "markdown",
   "id": "1be37b4a",
   "metadata": {},
   "source": [
    "answer:- there are many  type of data \n",
    "    1st one is integear data tyape it is number data type like 1,5,1,10000\n",
    "    \n",
    "    \n",
    "     2.second is string data type string are  sequence of characters enclosed with in single quotes ('')double quotes (\"\")and triple qoutes (\"\"\")\n",
    "    eg. ('this is my first string ') (\"this is my second string\") (\"\"\"this string has lots of link\"\")\n",
    "        \n",
    "        \n",
    "    3.boolean data type boolean type provides two built - in value true and false. These values are used to determine the given statment true or false .it \n",
    "    denotes by the class bool\n",
    "    \n"
   ]
  },
  {
   "cell_type": "markdown",
   "id": "9f62752e",
   "metadata": {},
   "source": [
    "4. What is an expression made up of? What do all expressions do?"
   ]
  },
  {
   "cell_type": "markdown",
   "id": "c77c2293",
   "metadata": {},
   "source": [
    "answer:- expression a combination of oprends and opretors its called expresssioin the expression in python produces some value or result after bieng interpreter by the python \n",
    "    example :- A combination of oprends and oprators like \n",
    "    example :- A combination of oprends and oprators like \n",
    "    a = a+10 , 10x = x+10"
   ]
  },
  {
   "cell_type": "markdown",
   "id": "ea3136e8",
   "metadata": {},
   "source": [
    "5. This assignment statements, like spam = 10. What is the difference between an expression and a statement?\n"
   ]
  },
  {
   "cell_type": "markdown",
   "id": "9c5e3ced",
   "metadata": {},
   "source": [
    "answer :- This assignment statements, like spam = 10. Expression a combination of oprends and opretors its called expresssion\n",
    "    expression alwas give output for example a = a + b , x = 10+x\n",
    "    \n",
    "    \n",
    "\n",
    "statement  :- statement never give output becuse  statement is a output \n",
    "    example :- a = 10 ,x = 5 "
   ]
  },
  {
   "cell_type": "markdown",
   "id": "baa6b160",
   "metadata": {},
   "source": [
    "5. This assignment statements, like spam = 10. What is the difference between an expression and a statement?\n"
   ]
  },
  {
   "cell_type": "markdown",
   "id": "bf089169",
   "metadata": {},
   "source": [
    "answer :- This assignment statements, like spam = 10. Expression a combination of oprends and opretors its called expresssion\n",
    " expression alwas give output for example a = a + b , x = 10+x\n",
    "    \n",
    "    \n",
    "\n",
    "statement  :- statement never give output becuse  statement is a output \n",
    "    example :- a = 10 ,x = 5 "
   ]
  },
  {
   "cell_type": "markdown",
   "id": "6363ab1c",
   "metadata": {},
   "source": [
    "6. After running the following code, what does the variable bacon contain?\n",
    "bacon = 22\n",
    "bacon + 1\n"
   ]
  },
  {
   "cell_type": "code",
   "execution_count": 2,
   "id": "bf0a5cfb",
   "metadata": {},
   "outputs": [
    {
     "data": {
      "text/plain": [
       "23"
      ]
     },
     "execution_count": 2,
     "metadata": {},
     "output_type": "execute_result"
    }
   ],
   "source": [
    "bacon = 22\n",
    "bacon + 1"
   ]
  },
  {
   "cell_type": "markdown",
   "id": "f5d33408",
   "metadata": {},
   "source": [
    "7. What should the values of the following two terms be?\n",
    "'spam' + 'spamspam'\n",
    "'spam' * 3\n"
   ]
  },
  {
   "cell_type": "code",
   "execution_count": 3,
   "id": "26f97794",
   "metadata": {},
   "outputs": [
    {
     "data": {
      "text/plain": [
       "'spamspamspam'"
      ]
     },
     "execution_count": 3,
     "metadata": {},
     "output_type": "execute_result"
    }
   ],
   "source": [
    "'spam' +  'spamspam'"
   ]
  },
  {
   "cell_type": "code",
   "execution_count": 4,
   "id": "30cb9727",
   "metadata": {},
   "outputs": [
    {
     "data": {
      "text/plain": [
       "'spamspamspam'"
      ]
     },
     "execution_count": 4,
     "metadata": {},
     "output_type": "execute_result"
    }
   ],
   "source": [
    " 'spam' * 3"
   ]
  },
  {
   "cell_type": "markdown",
   "id": "851dc851",
   "metadata": {},
   "source": [
    "8. Why is eggs a valid variable name while 100 is invalid?"
   ]
  },
  {
   "cell_type": "markdown",
   "id": "8699a9e7",
   "metadata": {},
   "source": [
    "eggs is valid variable becuse variable always start words only its never start digit Because variable names cannot begin with a number.\n",
    "thats why eggs is valid variable and 100in invalid variable"
   ]
  },
  {
   "cell_type": "markdown",
   "id": "eb8a5bc6",
   "metadata": {},
   "source": [
    "9. What three functions can be used to get the integer, floating-point number, or string version of a value?"
   ]
  },
  {
   "cell_type": "markdown",
   "id": "b1b9fabe",
   "metadata": {},
   "source": [
    "The int(), float(), and str() functions will evaluate to the integer, floating-point number, and string versions of the value passed to them.\n",
    "int(1,10,50,10000)\n",
    "floating(3.4,4.5,6.2,8.2)\n",
    "string('name',\"name\",\"\"\"name\"\"\")"
   ]
  },
  {
   "cell_type": "markdown",
   "id": "5acbd453",
   "metadata": {},
   "source": [
    "10. Why does this expression cause an error? How can you fix it?\n",
    "'I have eaten ' + 99 + ' burritos.'\n"
   ]
  },
  {
   "cell_type": "code",
   "execution_count": 5,
   "id": "303f651d",
   "metadata": {},
   "outputs": [
    {
     "ename": "TypeError",
     "evalue": "can only concatenate str (not \"int\") to str",
     "output_type": "error",
     "traceback": [
      "\u001b[1;31m---------------------------------------------------------------------------\u001b[0m",
      "\u001b[1;31mTypeError\u001b[0m                                 Traceback (most recent call last)",
      "\u001b[1;32m~\\AppData\\Local\\Temp\\ipykernel_14088\\2431449823.py\u001b[0m in \u001b[0;36m<module>\u001b[1;34m\u001b[0m\n\u001b[1;32m----> 1\u001b[1;33m \u001b[1;34m'I have eaten '\u001b[0m \u001b[1;33m+\u001b[0m \u001b[1;36m99\u001b[0m \u001b[1;33m+\u001b[0m \u001b[1;34m' burritos.'\u001b[0m\u001b[1;33m\u001b[0m\u001b[1;33m\u001b[0m\u001b[0m\n\u001b[0m",
      "\u001b[1;31mTypeError\u001b[0m: can only concatenate str (not \"int\") to str"
     ]
    }
   ],
   "source": [
    " 'I have eaten ' + 99 + ' burritos.'"
   ]
  },
  {
   "cell_type": "code",
   "execution_count": 6,
   "id": "b6209848",
   "metadata": {},
   "outputs": [
    {
     "data": {
      "text/plain": [
       "'I have eaten + 99 +burritos.'"
      ]
     },
     "execution_count": 6,
     "metadata": {},
     "output_type": "execute_result"
    }
   ],
   "source": [
    " 'I have eaten + 99 +burritos.'"
   ]
  },
  {
   "cell_type": "code",
   "execution_count": null,
   "id": "e565726c",
   "metadata": {},
   "outputs": [],
   "source": []
  }
 ],
 "metadata": {
  "kernelspec": {
   "display_name": "Python 3 (ipykernel)",
   "language": "python",
   "name": "python3"
  },
  "language_info": {
   "codemirror_mode": {
    "name": "ipython",
    "version": 3
   },
   "file_extension": ".py",
   "mimetype": "text/x-python",
   "name": "python",
   "nbconvert_exporter": "python",
   "pygments_lexer": "ipython3",
   "version": "3.9.13"
  }
 },
 "nbformat": 4,
 "nbformat_minor": 5
}
